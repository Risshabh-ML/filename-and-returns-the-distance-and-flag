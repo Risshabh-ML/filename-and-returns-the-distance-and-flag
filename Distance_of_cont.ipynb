{
 "cells": [
  {
   "cell_type": "code",
   "execution_count": 1,
   "metadata": {},
   "outputs": [],
   "source": [
    "from __future__ import print_function\n",
    "from scipy.spatial import distance as dist\n",
    "from imutils import perspective\n",
    "from imutils import contours\n",
    "import numpy as np\n",
    "import argparse\n",
    "import imutils\n",
    "import cv2\n",
    "%matplotlib inline"
   ]
  },
  {
   "cell_type": "code",
   "execution_count": 2,
   "metadata": {},
   "outputs": [],
   "source": [
    "def order_points_old(pts):\n",
    "    rect = np.zeros((4, 2), dtype=\"float32\")\n",
    "    \n",
    "    s = pts.sum(axis=1)\n",
    "    rect[0] = pts[np.argmin(s)]\n",
    "    rect[2] = pts[np.argmax(s)]\n",
    "    \n",
    "    diff = np.diff(pts, axis=1)\n",
    "    rect[1] = pts[np.argmin(diff)]\n",
    "    rect[3] = pts[np.argmax(diff)]\n",
    " \n",
    "    return rect"
   ]
  },
  {
   "cell_type": "code",
   "execution_count": 3,
   "metadata": {},
   "outputs": [],
   "source": [
    "def order_points(pts):\n",
    "    xSorted = pts[np.argsort(pts[:, 0]), :]\n",
    "    \n",
    "    leftMost = xSorted[:2, :]\n",
    "    rightMost = xSorted[2:, :]\n",
    "    \n",
    "    leftMost = leftMost[np.argsort(leftMost[:, 1]), :]\n",
    "    (tl, bl) = leftMost\n",
    "    \n",
    "    D = dist.cdist(tl[np.newaxis], rightMost, \"euclidean\")[0]\n",
    "    (br, tr) = rightMost[np.argsort(D)[::-1], :]\n",
    "    \n",
    "    return np.array([tl, tr, br, bl], dtype=\"float32\")"
   ]
  },
  {
   "cell_type": "code",
   "execution_count": 4,
   "metadata": {},
   "outputs": [
    {
     "data": {
      "text/plain": [
       "_StoreAction(option_strings=['-n', '--new'], dest='new', nargs=None, const=None, default=-1, type=<class 'int'>, choices=None, help='whether or not the new order points should be used', metavar=None)"
      ]
     },
     "execution_count": 4,
     "metadata": {},
     "output_type": "execute_result"
    }
   ],
   "source": [
    "ap = argparse.ArgumentParser()\n",
    "ap.add_argument(\"-n\", \"--new\", type=int, default=-1, \n",
    "                help=\"whether or not the new order points should be used\")"
   ]
  },
  {
   "cell_type": "code",
   "execution_count": 56,
   "metadata": {},
   "outputs": [],
   "source": [
    "\n",
    "import os\n",
    "\n",
    "\n",
    "def read_img(path):\n",
    "    \"\"\"Given a path to an image file, returns a cv2 array\n",
    "\n",
    "    str -> np.ndarray\"\"\"\n",
    "    if os.path.isfile(path):\n",
    "        return cv2.imread(path)\n",
    "    else:\n",
    "        raise ValueError('Path provided is not a valid file: {}'.format(path))\n",
    "\n",
    "\n",
    "path =r'Pictures\\j.png'\n",
    "img = read_img(path)\n",
    "gray = cv2.cvtColor(img, cv2.COLOR_BGR2GRAY)\n",
    "gray = cv2.GaussianBlur(gray, (7, 7), 0)"
   ]
  },
  {
   "cell_type": "code",
   "execution_count": 57,
   "metadata": {},
   "outputs": [],
   "source": [
    "edged = cv2.Canny(gray, 50, 100)\n",
    "edged = cv2.dilate(edged, None, iterations=1)\n",
    "edged = cv2.erode(edged, None, iterations=1)"
   ]
  },
  {
   "cell_type": "code",
   "execution_count": 58,
   "metadata": {},
   "outputs": [],
   "source": [
    "cv2.imshow('edged', edged)\n",
    "cv2.waitKey(0)\n",
    "cv2.destroyAllWindows()"
   ]
  },
  {
   "cell_type": "code",
   "execution_count": 59,
   "metadata": {},
   "outputs": [],
   "source": [
    "cnts = cv2.findContours(edged.copy(), cv2.RETR_EXTERNAL, cv2.CHAIN_APPROX_SIMPLE)\n",
    "cnts = cnts[0] if imutils.is_cv2() else cnts[1]"
   ]
  },
  {
   "cell_type": "code",
   "execution_count": 60,
   "metadata": {},
   "outputs": [],
   "source": [
    "(cnts, _) = contours.sort_contours(cnts)\n",
    "colors = ((0, 0, 255), (240, 0, 159), (255, 0, 0), (255, 255, 0))"
   ]
  },
  {
   "cell_type": "code",
   "execution_count": 61,
   "metadata": {},
   "outputs": [
    {
     "name": "stdout",
     "output_type": "stream",
     "text": [
      "Object #1:\n",
      "[[ 598 1687]\n",
      " [ 430 1176]\n",
      " [ 520 1147]\n",
      " [ 688 1658]]\n",
      "Object #23:\n",
      "[[1294 1017]\n",
      " [1102  882]\n",
      " [1128  845]\n",
      " [1320  980]]\n",
      "Object #24:\n",
      "[[1206  942]\n",
      " [1120  876]\n",
      " [1234  726]\n",
      " [1321  792]]\n",
      "Object #40:\n",
      "[[1864 1309]\n",
      " [1707  930]\n",
      " [1763  907]\n",
      " [1920 1286]]\n",
      "Object #47:\n",
      "[[2222  639]\n",
      " [2218  607]\n",
      " [2411  586]\n",
      " [2415  618]]\n",
      "Object #50:\n",
      "[[2555 1026]\n",
      " [2289  654]\n",
      " [2376  591]\n",
      " [2642  963]]\n",
      "Object #51:\n",
      "[[2335 1049]\n",
      " [2334 1042]\n",
      " [2366 1040]\n",
      " [2367 1048]]\n",
      "Object #58:\n",
      "[[2634  712]\n",
      " [2418  537]\n",
      " [2452  495]\n",
      " [2669  669]]\n",
      "Object #60:\n",
      "[[2639 1217]\n",
      " [2446  673]\n",
      " [2551  636]\n",
      " [2743 1180]]\n",
      "Object #66:\n",
      "[[2697 1158]\n",
      " [2635  714]\n",
      " [2750  698]\n",
      " [2811 1142]]\n"
     ]
    }
   ],
   "source": [
    "for (i, c) in enumerate(cnts):\n",
    "    if cv2.contourArea(c) < 100:\n",
    "        continue\n",
    "        \n",
    "    box = cv2.minAreaRect(c)\n",
    "    box = cv2.cv.BoxPoints(box) if imutils.is_cv2() else cv2.boxPoints(box)\n",
    "    box = np.array(box, dtype=\"int\")\n",
    "    cv2.drawContours(img, [box], -1, (0, 255, 0), 2)\n",
    "    # show the original coordinates\n",
    "    print(\"Object #{}:\".format(i + 1))\n",
    "    print(box)\n",
    "    rect = order_points_old(box)\n",
    "   \n",
    "    for ((x, y), color) in zip(rect, colors):\n",
    "        cv2.circle(img, (int(x), int(y)), 5, color, -1)\n",
    "        \n",
    "    cv2.putText(img, \"Object #{}\".format(i + 1), (int(rect[0][0] - 15), int(rect[0][1] - 15)), cv2.FONT_HERSHEY_SIMPLEX, 0.55, (255, 255, 255), 2)\n",
    "    \n",
    "    cv2.imshow(\"image\", img)\n",
    "    cv2.waitKey(0)\n",
    "    cv2.destroyAllWindows()"
   ]
  },
  {
   "cell_type": "code",
   "execution_count": 42,
   "metadata": {},
   "outputs": [
    {
     "data": {
      "text/plain": [
       "_StoreAction(option_strings=['-w', '--width'], dest='width', nargs=None, const=None, default=None, type=<class 'float'>, choices=None, help='width of the left-most object in the image (in inches)', metavar=None)"
      ]
     },
     "execution_count": 42,
     "metadata": {},
     "output_type": "execute_result"
    }
   ],
   "source": [
    "from scipy.spatial import distance as dist\n",
    "from imutils import perspective\n",
    "from imutils import contours\n",
    "import numpy as np\n",
    "import argparse\n",
    "import imutils\n",
    "import cv2\n",
    " \n",
    "def midpoint(ptA, ptB):\n",
    "    return ((ptA[0] + ptB[0]) * 0.5, (ptA[1] + ptB[1]) * 0.5)\n",
    " \n",
    "# construct the argument parse and parse the arguments\n",
    "ap = argparse.ArgumentParser()\n",
    "ap.add_argument(\"-i\", \"--image\", required=True, help=\"path to the input image\")\n",
    "ap.add_argument(\"-w\", \"--width\", type=float, required=True, help=\"width of the left-most object in the image (in inches)\")"
   ]
  },
  {
   "cell_type": "code",
   "execution_count": 49,
   "metadata": {},
   "outputs": [],
   "source": [
    "img=cv2.imread(r\"d.png\")\n",
    "import os\n",
    "def read_img(path):\n",
    "    \"\"\"Given a path to an image file, returns a cv2 array\n",
    "\n",
    "    str -> np.ndarray\"\"\"\n",
    "    if os.path.isfile(path):\n",
    "        return cv2.imread(path)\n",
    "    else:\n",
    "        raise ValueError('Path provided is not a valid file: {}'.format(path))\n",
    "\n",
    "\n",
    "path =r'Pictures\\d.png'\n",
    "img = read_img(path)\n",
    "gray = cv2.cvtColor(img, cv2.COLOR_BGR2GRAY)\n",
    "gray = cv2.GaussianBlur(gray, (7, 7), 0)\n",
    " \n",
    "# perform edge detection, then perform a dilation + erosion to\n",
    "# close gaps in between object edges\n",
    "edged = cv2.Canny(gray, 50, 100)\n",
    "edged = cv2.dilate(edged, None, iterations=1)\n",
    "edged = cv2.erode(edged, None, iterations=1)\n",
    " \n",
    "# find contours in the edge map\n",
    "cnts = cv2.findContours(edged.copy(), cv2.RETR_EXTERNAL, cv2.CHAIN_APPROX_SIMPLE)\n",
    "cnts = cnts[0] if imutils.is_cv2() else cnts[1]\n",
    " \n",
    "# sort the contours from left-to-right and initialize the\n",
    "# 'pixels per metric' calibration variable\n",
    "(cnts, _) = contours.sort_contours(cnts)\n",
    "pixelsPerMetric = None"
   ]
  },
  {
   "cell_type": "code",
   "execution_count": 50,
   "metadata": {},
   "outputs": [],
   "source": [
    "for c in cnts:\n",
    "    # if the contour is not sufficiently large, ignore it\n",
    "    if cv2.contourArea(c) < 100:\n",
    "        continue\n",
    "# compute the rotated bounding box of the contour\n",
    "    orig = img.copy()\n",
    "    box = cv2.minAreaRect(c)\n",
    "    box = cv2.cv.BoxPoints(box) if imutils.is_cv2() else cv2.boxPoints(box)\n",
    "    box = np.array(box, dtype=\"int\")\n",
    "# order the points in the contour such that they appear\n",
    "# in top-left, top-right, bottom-right, and bottom-left\n",
    "# order, then draw the outline of the rotated bounding\n",
    "# box\n",
    "    box = perspective.order_points(box)\n",
    "    cv2.drawContours(orig, [box.astype(\"int\")], -1, (0, 255, 0), 2)\n",
    "# loop over the original points and draw them\n",
    "    for (x, y) in box:\n",
    "        cv2.circle(orig, (int(x), int(y)), 5, (0, 0, 255), -1)\n",
    "        \n",
    "        (tl, tr, br, bl) = box\n",
    "    (tltrX, tltrY) = midpoint(tl, tr)\n",
    "    (blbrX, blbrY) = midpoint(bl, br)\n",
    "# compute the midpoint between the top-left and top-right points,\n",
    "\n",
    "# followed by the midpoint between the top-righ and bottom-right\n",
    "    (tlblX, tlblY) = midpoint(tl, bl)\n",
    "    (trbrX, trbrY) = midpoint(tr, br)\n",
    " # draw the midpoints on the image\n",
    "    cv2.circle(orig, (int(tltrX), int(tltrY)), 5, (255, 0, 0), -1)\n",
    "    cv2.circle(orig, (int(blbrX), int(blbrY)), 5, (255, 0, 0), -1)\n",
    "    cv2.circle(orig, (int(tlblX), int(tlblY)), 5, (255, 0, 0), -1)\n",
    "    cv2.circle(orig, (int(trbrX), int(trbrY)), 5, (255, 0, 0), -1)\n",
    " # draw lines between the midpoints\n",
    "    cv2.line(orig, (int(tltrX), int(tltrY)), (int(blbrX), int(blbrY)), (255, 0, 255), 2)\n",
    "    cv2.line(orig, (int(tlblX), int(tlblY)), (int(trbrX), int(trbrY)), (255, 0, 255), 2)\n",
    "    dA = dist.euclidean((tltrX, tltrY), (blbrX, blbrY))\n",
    "    dB = dist.euclidean((tlblX, tlblY), (trbrX, trbrY))\n",
    "    if pixelsPerMetric is None:\n",
    "        pixelsPerMetric = dB / 0.955\n",
    "        \n",
    "    dimA = dA / pixelsPerMetric\n",
    "    dimB = dB / pixelsPerMetric\n",
    "    cv2.putText(orig, \"{:.1f}in\".format(dimA), (int(tltrX - 15), int(tltrY - 10)), cv2.FONT_HERSHEY_SIMPLEX, 0.65, (255, 255, 255), 2)\n",
    "    cv2.putText(orig, \"{:.1f}in\".format(dimB), (int(trbrX + 10), int(trbrY)), cv2.FONT_HERSHEY_SIMPLEX, 0.65, (255, 255, 255), 2)\n",
    "    cv2.imshow(\"Image\", orig)\n",
    "    cv2.waitKey(0)\n",
    "    cv2.destroyAllWindows()"
   ]
  },
  {
   "cell_type": "code",
   "execution_count": 51,
   "metadata": {},
   "outputs": [],
   "source": [
    "def midpoint(ptA, ptB):\n",
    "    return ((ptA[0] + ptB[0]) * 0.5, (ptA[1] + ptB[1]) * 0.5)\n",
    " "
   ]
  },
  {
   "cell_type": "code",
   "execution_count": 54,
   "metadata": {},
   "outputs": [],
   "source": [
    "img=cv2.imread(r\"d.png\")\n",
    "import os\n",
    "def read_img(path):\n",
    "    \"\"\"Given a path to an image file, returns a cv2 array\n",
    "\n",
    "    str -> np.ndarray\"\"\"\n",
    "    if os.path.isfile(path):\n",
    "        return cv2.imread(path)\n",
    "    else:\n",
    "        raise ValueError('Path provided is not a valid file: {}'.format(path))\n",
    "\n",
    "\n",
    "path =r'Pictures\\d.png'\n",
    "img = read_img(path)\n",
    "gray = cv2.cvtColor(img, cv2.COLOR_BGR2GRAY)\n",
    "gray = cv2.GaussianBlur(gray, (7, 7), 0)\n",
    " \n",
    "\n",
    "cnts = cv2.findContours(edged.copy(), cv2.RETR_EXTERNAL, cv2.CHAIN_APPROX_SIMPLE)\n",
    "cnts = cnts[0] if imutils.is_cv2() else cnts[1]\n",
    " \n",
    "\n",
    "(cnts, _) = contours.sort_contours(cnts)\n",
    "colors = ((0, 0, 255), (240, 0, 159), (0, 165, 255), (255, 255, 0), (255, 0, 255))\n",
    "refObj = None"
   ]
  },
  {
   "cell_type": "code",
   "execution_count": 55,
   "metadata": {},
   "outputs": [],
   "source": [
    "for c in cnts:\n",
    "    if cv2.contourArea(c) < 100:\n",
    "        continue\n",
    " \n",
    "    box = cv2.minAreaRect(c)\n",
    "    box = cv2.cv.BoxPoints(box) if imutils.is_cv2() else cv2.boxPoints(box)\n",
    "    box = np.array(box, dtype=\"int\")\n",
    " \n",
    "\n",
    "    box = perspective.order_points(box)\n",
    " \n",
    "\n",
    "    cX = np.average(box[:, 0])\n",
    "    cY = np.average(box[:, 1])\n",
    "    if refObj is None:\n",
    "        (tl, tr, br, bl) = box\n",
    "        (tlblX, tlblY) = midpoint(tl, bl)\n",
    "        (trbrX, trbrY) = midpoint(tr, br)\n",
    " \n",
    "        D = dist.euclidean((tlblX, tlblY), (trbrX, trbrY))\n",
    "        refObj = (box, (cX, cY), D / 0.9)\n",
    "        continue\n",
    "        \n",
    "    orig = img.copy()\n",
    "    cv2.drawContours(orig, [box.astype(\"int\")], -1, (0, 255, 0), 2)\n",
    "    cv2.drawContours(orig, [refObj[0].astype(\"int\")], -1, (0, 255, 0), 2)\n",
    " \n",
    "\n",
    "    refCoords = np.vstack([refObj[0], refObj[1]])\n",
    "    objCoords = np.vstack([box, (cX, cY)])\n",
    "    for ((xA, yA), (xB, yB), color) in zip(refCoords, objCoords, colors):\n",
    "        cv2.circle(orig, (int(xA), int(yA)), 5, color, -1)\n",
    "        cv2.circle(orig, (int(xB), int(yB)), 5, color, -1)\n",
    "        cv2.line(orig, (int(xA), int(yA)), (int(xB), int(yB)), color, 2)\n",
    " \n",
    "        D = dist.euclidean((xA, yA), (xB, yB)) / refObj[2]\n",
    "        (mX, mY) = midpoint((xA, yA), (xB, yB))\n",
    "        cv2.putText(orig, \"{:.1f}in\".format(D), (int(mX), int(mY - 10)), cv2.FONT_HERSHEY_SIMPLEX, 0.55, color, 2)\n",
    "\n",
    "        cv2.imshow(\"Image\", orig)\n",
    "        cv2.waitKey(0)\n",
    "        cv2.destroyAllWindows()"
   ]
  },
  {
   "cell_type": "code",
   "execution_count": null,
   "metadata": {},
   "outputs": [],
   "source": []
  },
  {
   "cell_type": "code",
   "execution_count": null,
   "metadata": {},
   "outputs": [],
   "source": []
  }
 ],
 "metadata": {
  "kernelspec": {
   "display_name": "Python 3",
   "language": "python",
   "name": "python3"
  },
  "language_info": {
   "codemirror_mode": {
    "name": "ipython",
    "version": 3
   },
   "file_extension": ".py",
   "mimetype": "text/x-python",
   "name": "python",
   "nbconvert_exporter": "python",
   "pygments_lexer": "ipython3",
   "version": "3.7.4"
  }
 },
 "nbformat": 4,
 "nbformat_minor": 2
}
